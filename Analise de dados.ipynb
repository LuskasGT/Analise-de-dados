{
  "nbformat": 4,
  "nbformat_minor": 0,
  "metadata": {
    "colab": {
      "provenance": [],
      "authorship_tag": "ABX9TyM0JahmfKN6b3llRVh8VeRS",
      "include_colab_link": true
    },
    "kernelspec": {
      "name": "python3",
      "display_name": "Python 3"
    },
    "language_info": {
      "name": "python"
    }
  },
  "cells": [
    {
      "cell_type": "markdown",
      "metadata": {
        "id": "view-in-github",
        "colab_type": "text"
      },
      "source": [
        "<a href=\"https://colab.research.google.com/github/LuskasGT/Analise-de-dados/blob/main/Analise%20de%20dados.ipynb\" target=\"_parent\"><img src=\"https://colab.research.google.com/assets/colab-badge.svg\" alt=\"Open In Colab\"/></a>"
      ]
    },
    {
      "cell_type": "markdown",
      "source": [
        "# **Desafio:**\n",
        "Você trabalha em uma grande empresa de Cartão de Crédito e o diretor da empresa percebeu que o número de clientes que cancelam seus cartões tem aumentado significativamente, causando prejuízos enormes para a empresa\n",
        "\n",
        "O que fazer para evitar isso? Como saber as pessoas que têm maior tendência a cancelar o cartão?\n",
        "\n",
        "# **O que temos:**\n",
        "Temos 1 base de dados com informações dos clientes, tanto clientes atuais quanto clientes que cancelaram o cartão\n",
        "\n",
        "Download da Base de Dados: Botão na página\n",
        "\n",
        "Referência: https://www.kaggle.com/sakshigoyal7/credit-card-customers"
      ],
      "metadata": {
        "id": "F6Yz_yC-3cB7"
      }
    },
    {
      "cell_type": "code",
      "execution_count": null,
      "metadata": {
        "id": "uojXJmnH3BSx"
      },
      "outputs": [],
      "source": []
    },
    {
      "cell_type": "code",
      "source": [
        "from google.colab import drive\n",
        "drive.mount('/content/drive')"
      ],
      "metadata": {
        "id": "VTui6D_A4TIf"
      },
      "execution_count": null,
      "outputs": []
    }
  ]
}